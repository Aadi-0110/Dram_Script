{
 "cells": [
  {
   "cell_type": "code",
   "execution_count": null,
   "metadata": {},
   "outputs": [],
   "source": []
  },
  {
   "cell_type": "code",
   "execution_count": 45,
   "metadata": {},
   "outputs": [
    {
     "name": "stdout",
     "output_type": "stream",
     "text": [
      "hello hottie I am too soryy for this behaviour apology female\n"
     ]
    }
   ],
   "source": [
    "from ibm_watson import TextToSpeechV1\n",
    "import json\n",
    "import os\n",
    "text_to_speech = TextToSpeechV1(\n",
    "    iam_apikey='Ao1fYL9rUFmyeqUnH-OA5JDLSN2v1ujEi3rBHKomeJ9-',\n",
    "    url= 'https://gateway-lon.watsonplatform.net/text-to-speech/api'\n",
    ")\n",
    "\n",
    "\n",
    "\n",
    "def Voice_Box(text_input,emotion,gender):\n",
    "    \n",
    "    print(text_input , emotion ,gender)\n",
    "    \n",
    "    if gender=='male':\n",
    "        \n",
    "        \n",
    "        text=\"\"\n",
    "        \n",
    "        if emotion=='angry':\n",
    "            \n",
    "            x='<voice-transformation type=\"Custom\" rate=\"60%\" breathiness=\"100%\">{}</voice-transformation>'\n",
    "            y=text_input\n",
    "            text=x.format(y)\n",
    "            \n",
    "        elif emotion=='happy' or emotion=='joy':\n",
    "            \n",
    "            x='<voice-transformation type=\"Custom\" rate=\"-20%\" pitch_range=\"100%\" breathiness=\"100%\" pitch=\"100%\">{} </voice-transformation>'\n",
    "            y=text_input\n",
    "            text=x.format(y)\n",
    "            \n",
    "        elif emotion=='sad':\n",
    "            x='<voice-transformation type=\"Custom\"  pitch=\"80%\"  rate=\"-70%\" breathiness=\"100%\">{}</voice-transformation>'\n",
    "            y=text_input\n",
    "            text=x.format(y)\n",
    "            \n",
    "        \n",
    "        with open('hello_world.mp3', 'wb') as audio_file:audio_file.write(\n",
    "        text_to_speech.synthesize(\n",
    "            text,\n",
    "            voice='en-US_MichaelVoice',\n",
    "            accept='audio/mp3'        \n",
    "        ).get_result().content)\n",
    "            \n",
    "            \n",
    "            \n",
    "        os.system(\"mpg321 hello_world.mp3\")\n",
    "    \n",
    "\n",
    "\n",
    "        \n",
    "     \n",
    "        \n",
    "    elif gender=='female':\n",
    "        \n",
    "        \n",
    "        \n",
    "        \n",
    "        text=\"\"\n",
    "        \n",
    "        \n",
    "        if emotion=='happy' or emotion=='joy':\n",
    "            \n",
    "            x='<express-as type=\"GoodNews\">{}</express-as>'\n",
    "            y=text_input\n",
    "            text=x.format(y)\n",
    "            \n",
    "            \n",
    "            \n",
    "            \n",
    "        elif emotion=='apology':\n",
    "            \n",
    "            x='<express-as type=\"Apology\">{}</express-as>'\n",
    "            y=text_input\n",
    "            text=x.format(y)\n",
    "            \n",
    "            \n",
    "        elif emotion=='uncertainty':\n",
    "            x='<express-as type=\"Uncertainty\">{}</express-as>'\n",
    "            y=text_input\n",
    "            text=x.format(y)\n",
    "        \n",
    "        elif emotion=='angry':\n",
    "            x=' <voice-transformation type=\"Custom\" glottal_tension=\"100%\" breathiness=\"0%\" pitch=\"67%\" pitch_range=\"0%\" timbre_extent=\"100%\" rate=\"38%\" hoarseness=\"0%\" growl=\"0%\" tremble=\"0%\" timbre=\"map{400_522.5_1200_1200.0_3000_3000.0_4000_4000}\"><express-as type=\"Excitement\" level=\"74%\"> {} </express-as></voice-transformation>'\n",
    "\n",
    "            y=text_input\n",
    "            text=x.format(y)\n",
    "            \n",
    "            \n",
    "            \n",
    "            \n",
    "            \n",
    "        with open('hello_world.mp3', 'wb') as audio_file:audio_file.write(\n",
    "        text_to_speech.synthesize(\n",
    "            text,\n",
    "            voice='en-US_AllisonVoice',\n",
    "            accept='audio/mp3'        \n",
    "        ).get_result().content)\n",
    "            \n",
    "            \n",
    "            \n",
    "        \n",
    "        os.system(\"mpg321 hello_world.mp3\")\n",
    "    return\n",
    "        \n",
    "        \n",
    "        \n",
    "        \n",
    "        \n",
    "Voice_Box('hello hottie I am too soryy for this behaviour','apology','female')\n",
    "\n",
    "\n",
    "            \n",
    "            \n",
    "\n",
    "        "
   ]
  },
  {
   "cell_type": "code",
   "execution_count": 41,
   "metadata": {},
   "outputs": [
    {
     "name": "stdout",
     "output_type": "stream",
     "text": [
      "Did you hear that?  They've shut down the main reactor.  We'll be destroyed for sure.  This is madness! joy male\n"
     ]
    }
   ],
   "source": [
    "import json\n",
    "import requests\n",
    "\n",
    "url = \"https://www.codeblogs.ga/send_script_data/28/LUKE/\"\n",
    "data = open(r'hello_world.mp3', 'rb')  \n",
    "headers = {'content-type': 'audio/mp3'}\n",
    "\n",
    "# r = requests.post(url, data=data, headers=headers)\n",
    "r1 = requests.get(url).text\n",
    "r1 = json.loads(r1)\n",
    "r1 = r1['datas'][0]   \n",
    "print(str(r1['dialogue']) , str(r1['sentiment']) , str(r1['character_gender']))\n"
   ]
  },
  {
   "cell_type": "code",
   "execution_count": 46,
   "metadata": {},
   "outputs": [
    {
     "name": "stdout",
     "output_type": "stream",
     "text": [
      "Did you hear that?  They've shut down the main reactor.  We'll be destroyed for sure.  This is madness! joy male\n"
     ]
    }
   ],
   "source": [
    "Voice_Box( str(r1['dialogue']) , str(r1['sentiment']) , str(r1['character_gender']) )"
   ]
  },
  {
   "cell_type": "code",
   "execution_count": null,
   "metadata": {},
   "outputs": [],
   "source": [
    "#allison angry\n",
    "<voice-transformation type=\"Custom\" glottal_tension=\"100%\" breathiness=\"0%\" pitch=\"67%\" pitch_range=\"0%\" timbre_extent=\"100%\" rate=\"38%\" hoarseness=\"0%\" growl=\"0%\" tremble=\"0%\" timbre=\"map{400_522.5_1200_1200.0_3000_3000.0_4000_4000}\"><express-as type=\"Excitement\" level=\"74%\"> your text goes here </express-as></voice-transformation> "
   ]
  },
  {
   "cell_type": "code",
   "execution_count": null,
   "metadata": {},
   "outputs": [],
   "source": [
    "#sadness michael\n",
    "Hello! I'm Manish <voice-transformation type=\"Custom\"  pitch=\"80%\"  rate=\"-70%\" breathiness=\"100%\"> i dont get girls i am sad sad boy </voice-transformation>"
   ]
  }
 ],
 "metadata": {
  "kernelspec": {
   "display_name": "Python 3",
   "language": "python",
   "name": "python3"
  },
  "language_info": {
   "codemirror_mode": {
    "name": "ipython",
    "version": 3
   },
   "file_extension": ".py",
   "mimetype": "text/x-python",
   "name": "python",
   "nbconvert_exporter": "python",
   "pygments_lexer": "ipython3",
   "version": "3.6.7"
  }
 },
 "nbformat": 4,
 "nbformat_minor": 2
}
